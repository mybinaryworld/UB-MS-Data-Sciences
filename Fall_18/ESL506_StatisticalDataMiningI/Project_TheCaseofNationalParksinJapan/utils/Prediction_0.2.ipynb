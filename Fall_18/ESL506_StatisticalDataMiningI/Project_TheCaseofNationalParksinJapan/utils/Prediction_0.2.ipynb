{
 "cells": [
  {
   "cell_type": "code",
   "execution_count": 138,
   "metadata": {},
   "outputs": [],
   "source": [
    "import os\n",
    "import pandas as pd\n",
    "data_path = \"/Users/abhishekkumar/Documents/MS_UB/Fall_18/ESL506_StatisticalDataMiningI/Project/SIGNATE/translated/\"\n",
    "\n",
    "train = pd.read_table(os.path.join(data_path,\"'ttrain.tsv'.txt\"))\n",
    "test = pd.read_table(os.path.join(data_path,\"'ttest.tsv'.txt\"))\n",
    "######################################################################\n",
    "#Transforming Training Data\n",
    "#####################################################################\n",
    "#One hot encoding for parks\n",
    "train_df = pd.DataFrame()\n",
    "train_df[\"Akan\"] = train[\"epark\"] == \"Akan Megumi National Park\"\n",
    "train_df[\"Aso\"] = train[\"epark\"] == \"Aso Kuju National Park\"\n",
    "train_df[\"Ise\"] = train[\"epark\"] == \"Ise Shima National Park\"\n",
    "train_df[\"Kerama\"] = train[\"epark\"] == \"Kerama islands national park\"\n",
    "train_df[\"Kirishima\"] = train[\"epark\"] == \"Kirishima Jinjiang Bay National Park\"\n",
    "train_df[\"Nikko\"] = train[\"epark\"] == \"Nikko National Park\"\n",
    "train_df[\"Oyama\"] = train[\"epark\"] == \"Oyama Oki National Park\"\n",
    "train_df[\"Towada\"] = train[\"epark\"] == \"Towada Hachimantai National Park\"\n",
    "\n",
    "#\n",
    "train['datetime'] = pd.to_datetime(train['datetime'])\n",
    "\n",
    "#Creating new features with datetime\n",
    "train_df[\"dayofweek\"] = train['datetime'].dt.dayofweek\n",
    "train_df[\"dayofweek\"] = train_df[\"dayofweek\"].astype('object')\n",
    "train_df[\"month\"] = train['datetime'].dt.month\n",
    "train_df[\"month\"] = train_df[\"month\"].astype('object')\n",
    "train_df[\"year\"] = train['datetime'].dt.year\n",
    "train_df[\"year\"] = train_df[\"year\"].astype('object')\n",
    "train_df[\"day\"] = train['datetime'].dt.day\n",
    "train_df[\"day\"] = train_df[\"day\"].astype('object')\n",
    "\n",
    "\n",
    "\n",
    "##############################################################################\n",
    "#Transforming Test Data\n",
    "#############################################################################\n",
    "#One hot encoding for parks\n",
    "test_df = pd.DataFrame()\n",
    "test_df[\"Akan\"] = test[\"epark\"] == \"Akan Megumi National Park\"\n",
    "test_df[\"Aso\"] = test[\"epark\"] == \"Aso Kuju National Park\"\n",
    "test_df[\"Ise\"] = test[\"epark\"] == \"Ise Shima National Park\"\n",
    "test_df[\"Kerama\"] = test[\"epark\"] == \"Kerama islands national park\"\n",
    "test_df[\"Kirishima\"] = test[\"epark\"] == \"Kirishima Jinjiang Bay National Park\"\n",
    "test_df[\"Nikko\"] = test[\"epark\"] == \"Nikko National Park\"\n",
    "test_df[\"Oyama\"] = test[\"epark\"] == \"Oyama Oki National Park\"\n",
    "test_df[\"Towada\"] = test[\"epark\"] == \"Towada Hachimantai National Park\"\n",
    "\n",
    "#\n",
    "test['datetime'] = pd.to_datetime(train['datetime'])\n",
    "\n",
    "#Creating new features with datetime\n",
    "test_df[\"dayofweek\"] = test['datetime'].dt.dayofweek\n",
    "test_df[\"dayofweek\"] = test_df[\"dayofweek\"].astype('object')\n",
    "test_df[\"month\"] = test['datetime'].dt.month\n",
    "test_df[\"month\"] = test_df[\"month\"].astype('object')\n",
    "test_df[\"year\"] = test['datetime'].dt.year\n",
    "test_df[\"year\"] = test_df[\"year\"].astype('object')\n",
    "test_df[\"day\"] = test['datetime'].dt.day\n",
    "test_df[\"day\"] = test_df[\"day\"].astype('object')"
   ]
  },
  {
   "cell_type": "code",
   "execution_count": 139,
   "metadata": {},
   "outputs": [
    {
     "data": {
      "text/html": [
       "<div>\n",
       "<style scoped>\n",
       "    .dataframe tbody tr th:only-of-type {\n",
       "        vertical-align: middle;\n",
       "    }\n",
       "\n",
       "    .dataframe tbody tr th {\n",
       "        vertical-align: top;\n",
       "    }\n",
       "\n",
       "    .dataframe thead th {\n",
       "        text-align: right;\n",
       "    }\n",
       "</style>\n",
       "<table border=\"1\" class=\"dataframe\">\n",
       "  <thead>\n",
       "    <tr style=\"text-align: right;\">\n",
       "      <th></th>\n",
       "      <th>Akan</th>\n",
       "      <th>Aso</th>\n",
       "      <th>Ise</th>\n",
       "      <th>Kerama</th>\n",
       "      <th>Kirishima</th>\n",
       "      <th>Nikko</th>\n",
       "      <th>Oyama</th>\n",
       "      <th>Towada</th>\n",
       "      <th>dayofweek</th>\n",
       "      <th>month</th>\n",
       "      <th>year</th>\n",
       "      <th>day</th>\n",
       "    </tr>\n",
       "  </thead>\n",
       "  <tbody>\n",
       "    <tr>\n",
       "      <th>0</th>\n",
       "      <td>True</td>\n",
       "      <td>False</td>\n",
       "      <td>False</td>\n",
       "      <td>False</td>\n",
       "      <td>False</td>\n",
       "      <td>False</td>\n",
       "      <td>False</td>\n",
       "      <td>False</td>\n",
       "      <td>3</td>\n",
       "      <td>1</td>\n",
       "      <td>2015</td>\n",
       "      <td>1</td>\n",
       "    </tr>\n",
       "    <tr>\n",
       "      <th>1</th>\n",
       "      <td>True</td>\n",
       "      <td>False</td>\n",
       "      <td>False</td>\n",
       "      <td>False</td>\n",
       "      <td>False</td>\n",
       "      <td>False</td>\n",
       "      <td>False</td>\n",
       "      <td>False</td>\n",
       "      <td>4</td>\n",
       "      <td>1</td>\n",
       "      <td>2015</td>\n",
       "      <td>2</td>\n",
       "    </tr>\n",
       "    <tr>\n",
       "      <th>2</th>\n",
       "      <td>True</td>\n",
       "      <td>False</td>\n",
       "      <td>False</td>\n",
       "      <td>False</td>\n",
       "      <td>False</td>\n",
       "      <td>False</td>\n",
       "      <td>False</td>\n",
       "      <td>False</td>\n",
       "      <td>5</td>\n",
       "      <td>1</td>\n",
       "      <td>2015</td>\n",
       "      <td>3</td>\n",
       "    </tr>\n",
       "    <tr>\n",
       "      <th>3</th>\n",
       "      <td>True</td>\n",
       "      <td>False</td>\n",
       "      <td>False</td>\n",
       "      <td>False</td>\n",
       "      <td>False</td>\n",
       "      <td>False</td>\n",
       "      <td>False</td>\n",
       "      <td>False</td>\n",
       "      <td>6</td>\n",
       "      <td>1</td>\n",
       "      <td>2015</td>\n",
       "      <td>4</td>\n",
       "    </tr>\n",
       "    <tr>\n",
       "      <th>4</th>\n",
       "      <td>True</td>\n",
       "      <td>False</td>\n",
       "      <td>False</td>\n",
       "      <td>False</td>\n",
       "      <td>False</td>\n",
       "      <td>False</td>\n",
       "      <td>False</td>\n",
       "      <td>False</td>\n",
       "      <td>0</td>\n",
       "      <td>1</td>\n",
       "      <td>2015</td>\n",
       "      <td>5</td>\n",
       "    </tr>\n",
       "  </tbody>\n",
       "</table>\n",
       "</div>"
      ],
      "text/plain": [
       "   Akan    Aso    Ise  Kerama  Kirishima  Nikko  Oyama  Towada dayofweek  \\\n",
       "0  True  False  False   False      False  False  False   False         3   \n",
       "1  True  False  False   False      False  False  False   False         4   \n",
       "2  True  False  False   False      False  False  False   False         5   \n",
       "3  True  False  False   False      False  False  False   False         6   \n",
       "4  True  False  False   False      False  False  False   False         0   \n",
       "\n",
       "  month  year day  \n",
       "0     1  2015   1  \n",
       "1     1  2015   2  \n",
       "2     1  2015   3  \n",
       "3     1  2015   4  \n",
       "4     1  2015   5  "
      ]
     },
     "execution_count": 139,
     "metadata": {},
     "output_type": "execute_result"
    }
   ],
   "source": [
    "train_df.head()"
   ]
  },
  {
   "cell_type": "code",
   "execution_count": 140,
   "metadata": {},
   "outputs": [],
   "source": [
    "import warnings\n",
    "warnings.filterwarnings('ignore')\n",
    "import numpy as np\n",
    "import pandas as pd\n",
    "from datetime import datetime\n",
    "from sklearn.model_selection import RandomizedSearchCV, GridSearchCV\n",
    "from sklearn.metrics import roc_auc_score\n",
    "from sklearn.model_selection import StratifiedKFold\n",
    "from xgboost import XGBClassifier\n",
    "import xgboost as xgb"
   ]
  },
  {
   "cell_type": "code",
   "execution_count": 150,
   "metadata": {},
   "outputs": [],
   "source": [
    "def timer(start_time=None):\n",
    "    if not start_time:\n",
    "        start_time = datetime.now()\n",
    "        return start_time\n",
    "    elif start_time:\n",
    "        thour, temp_sec = divmod((datetime.now() - start_time).total_seconds(), 3600)\n",
    "        tmin, tsec = divmod(temp_sec, 60)\n",
    "        print('\\n Time taken: %i hours %i minutes and %s seconds.' % (thour, tmin, round(tsec, 2)))\n",
    "\n",
    "\n",
    "y = train['visitors'].values\n",
    "X = train_df\n",
    "\n",
    "#from sklearn.model_selection import train_test_split\n",
    "#X_train, X_test, y_train, y_test = train_test_split(X, y, test_size=.2, random_state=45)"
   ]
  },
  {
   "cell_type": "code",
   "execution_count": 175,
   "metadata": {},
   "outputs": [
    {
     "name": "stdout",
     "output_type": "stream",
     "text": [
      "Fitting 5 folds for each of 216 candidates, totalling 1080 fits\n"
     ]
    },
    {
     "name": "stderr",
     "output_type": "stream",
     "text": [
      "[Parallel(n_jobs=5)]: Using backend LokyBackend with 5 concurrent workers.\n",
      "[Parallel(n_jobs=5)]: Done  40 tasks      | elapsed:   32.2s\n",
      "[Parallel(n_jobs=5)]: Done 190 tasks      | elapsed:  2.4min\n",
      "[Parallel(n_jobs=5)]: Done 440 tasks      | elapsed:  5.5min\n",
      "[Parallel(n_jobs=5)]: Done 790 tasks      | elapsed: 10.7min\n",
      "[Parallel(n_jobs=5)]: Done 1080 out of 1080 | elapsed: 15.3min finished\n"
     ]
    },
    {
     "name": "stdout",
     "output_type": "stream",
     "text": [
      "0.3842838891415538\n",
      "{'colsample_bytree': 0.8, 'gamma': 0.1, 'learning_rate': 0.1, 'max_depth': 6, 'min_child_weight': 7, 'n_estimators': 800, 'nthread': 4, 'objective': 'reg:linear', 'reg_lambda': 0.1, 'silent': 1, 'subsample': 0.7}\n"
     ]
    }
   ],
   "source": [
    "import numpy as np\n",
    "import pandas as pd\n",
    "from sklearn import preprocessing\n",
    "import xgboost as xgb\n",
    "from xgboost.sklearn import XGBRegressor\n",
    "import datetime\n",
    "from sklearn.model_selection import GridSearchCV\n",
    "\n",
    "now = datetime.datetime.now()\n",
    "\n",
    "# Load the data\n",
    "\n",
    "\n",
    "y_train_full = y\n",
    "x_train_full = X\n",
    "\n",
    "#x_test = X_test\n",
    "\n",
    "# Convert columns that are not numeric to a numeric value\n",
    "for c in x_train_full.columns:\n",
    "    if x_train_full[c].dtype == 'object':\n",
    "        lbl = preprocessing.LabelEncoder()\n",
    "        lbl.fit(list(x_train_full[c].values))\n",
    "        x_train_full[c] = lbl.transform(list(x_train_full[c].values))\n",
    "        # x_train_full.drop(c,axis=1,inplace=True)\n",
    "\n",
    "for c in x_test.columns:\n",
    "    if x_test[c].dtype == 'object':\n",
    "        lbl = preprocessing.LabelEncoder()\n",
    "        lbl.fit(list(x_test[c].values))\n",
    "        x_test[c] = lbl.transform(list(x_test[c].values))\n",
    "        # x_test.drop(c,axis=1,inplace=True)\n",
    "\n",
    "\n",
    "\n",
    "        \n",
    "# Various hyper-parameters to tune\n",
    "xgb1 = XGBRegressor()\n",
    "gama = np.linspace(0.1,0.5,9)\n",
    "parameters = {'nthread':[4], #when use hyperthread, xgboost may become slower\n",
    "              'objective':['reg:linear'],\n",
    "              'learning_rate': [0.01, 0.1], #so called `eta` value\n",
    "              'max_depth': [ 6],\n",
    "              'min_child_weight': [3, 5, 7],\n",
    "              'silent': [1],\n",
    "              'subsample': [0.7],\n",
    "              'colsample_bytree': [0.6, 0.7],\n",
    "              'n_estimators': [1000],\n",
    "              'reg_lambda':[0.1, 0.3],\n",
    "              'gamma': gama}\n",
    "\n",
    "xgb_grid = GridSearchCV(xgb1,\n",
    "                        parameters,\n",
    "                        cv = 5,\n",
    "                        n_jobs = 5,\n",
    "                        verbose=True)\n",
    "\n",
    "model = xgb_grid.fit(x_train_full,\n",
    "         y_train_full, eval_metric='mae')\n",
    "\n",
    "print(xgb_grid.best_score_)\n",
    "print(xgb_grid.best_params_)"
   ]
  },
  {
   "cell_type": "code",
   "execution_count": 176,
   "metadata": {},
   "outputs": [
    {
     "name": "stdout",
     "output_type": "stream",
     "text": [
      "966.0395677138598\n"
     ]
    }
   ],
   "source": [
    "y_pred = model.predict(X_test)\n",
    "predictions = [round(value) for value in y_pred]\n",
    "score = np.mean(abs(y_pred - y_test))\n",
    "print(score)"
   ]
  },
  {
   "cell_type": "code",
   "execution_count": 177,
   "metadata": {},
   "outputs": [],
   "source": [
    "import pandas as pd\n",
    "\n",
    "final_test = test_df\n",
    "for c in final_test.columns:\n",
    "    if final_test[c].dtype == 'object':\n",
    "        lbl = preprocessing.LabelEncoder()\n",
    "        lbl.fit(list(final_test[c].values))\n",
    "        final_test[c] = lbl.transform(list(final_test[c].values))\n",
    "        \n",
    "y_pred = model.predict(final_test)\n"
   ]
  },
  {
   "cell_type": "code",
   "execution_count": 186,
   "metadata": {},
   "outputs": [
    {
     "data": {
      "text/plain": [
       "{'Akan Megumi National Park',\n",
       " 'Aso Kuju National Park',\n",
       " 'Ise Shima National Park',\n",
       " 'Kerama islands national park',\n",
       " 'Kirishima Jinjiang Bay National Park',\n",
       " 'Nikko National Park',\n",
       " 'Oyama Oki National Park',\n",
       " 'Towada Hachimantai National Park'}"
      ]
     },
     "execution_count": 186,
     "metadata": {},
     "output_type": "execute_result"
    }
   ],
   "source": [
    "set(test[\"epark\"])"
   ]
  },
  {
   "cell_type": "code",
   "execution_count": 189,
   "metadata": {},
   "outputs": [],
   "source": [
    "akan_mean = np.mean(train[train[\"epark\"]==\"Akan Megumi National Park\"][\"visitors\"])\n",
    "aso_mean = np.mean(train[train[\"epark\"]==\"Aso Kuju National Park\"][\"visitors\"])\n",
    "ise_mean = np.mean(train[train[\"epark\"]==\"Ise Shima National Park\"][\"visitors\"])\n",
    "kerama_mean = np.mean(train[train[\"epark\"]==\"Kerama islands national park\"][\"visitors\"])\n",
    "kirishima_mean = np.mean(train[train[\"epark\"]==\"Kirishima Jinjiang Bay National Park\"][\"visitors\"])\n",
    "nikko_mean = np.mean(train[train[\"epark\"]==\"Nikko National Park\"][\"visitors\"])\n",
    "oyama_mean = np.mean(train[train[\"epark\"]==\"Oyama Oki National Park\"][\"visitors\"])\n",
    "towada_mean = np.mean(train[train[\"epark\"]==\"Towada Hachimantai National Park\"][\"visitors\"])\n",
    "mean_visitors = {\"Akan Megumi National Park\":akan_mean, \"Aso Kuju National Park\":aso_mean,\n",
    "                 \"Ise Shima National Park\":ise_mean, \"Kerama islands national park\":kerama_mean,\n",
    "                 \"Kirishima Jinjiang Bay National Park\":kirishima_mean, \"Nikko National Park\":nikko_mean,\n",
    "                \"Oyama Oki National Park\":oyama_mean,\"Towada Hachimantai National Park\":towada_mean}"
   ]
  },
  {
   "cell_type": "code",
   "execution_count": 196,
   "metadata": {},
   "outputs": [
    {
     "data": {
      "text/html": [
       "<div>\n",
       "<style scoped>\n",
       "    .dataframe tbody tr th:only-of-type {\n",
       "        vertical-align: middle;\n",
       "    }\n",
       "\n",
       "    .dataframe tbody tr th {\n",
       "        vertical-align: top;\n",
       "    }\n",
       "\n",
       "    .dataframe thead th {\n",
       "        text-align: right;\n",
       "    }\n",
       "</style>\n",
       "<table border=\"1\" class=\"dataframe\">\n",
       "  <thead>\n",
       "    <tr style=\"text-align: right;\">\n",
       "      <th></th>\n",
       "      <th>index</th>\n",
       "      <th>datetime</th>\n",
       "      <th>epark</th>\n",
       "      <th>visitors</th>\n",
       "    </tr>\n",
       "  </thead>\n",
       "  <tbody>\n",
       "    <tr>\n",
       "      <th>0</th>\n",
       "      <td>0</td>\n",
       "      <td>2015-01-01</td>\n",
       "      <td>Akan Megumi National Park</td>\n",
       "      <td>13469.371094</td>\n",
       "    </tr>\n",
       "    <tr>\n",
       "      <th>1</th>\n",
       "      <td>1</td>\n",
       "      <td>2015-01-02</td>\n",
       "      <td>Towada Hachimantai National Park</td>\n",
       "      <td>28518.166016</td>\n",
       "    </tr>\n",
       "    <tr>\n",
       "      <th>2</th>\n",
       "      <td>2</td>\n",
       "      <td>2015-01-03</td>\n",
       "      <td>Nikko National Park</td>\n",
       "      <td>23366.099609</td>\n",
       "    </tr>\n",
       "    <tr>\n",
       "      <th>3</th>\n",
       "      <td>3</td>\n",
       "      <td>2015-01-04</td>\n",
       "      <td>Ise Shima National Park</td>\n",
       "      <td>35663.039062</td>\n",
       "    </tr>\n",
       "    <tr>\n",
       "      <th>4</th>\n",
       "      <td>4</td>\n",
       "      <td>2015-01-05</td>\n",
       "      <td>Oyama Oki National Park</td>\n",
       "      <td>-759.467224</td>\n",
       "    </tr>\n",
       "  </tbody>\n",
       "</table>\n",
       "</div>"
      ],
      "text/plain": [
       "   index   datetime                             epark      visitors\n",
       "0      0 2015-01-01         Akan Megumi National Park  13469.371094\n",
       "1      1 2015-01-02  Towada Hachimantai National Park  28518.166016\n",
       "2      2 2015-01-03               Nikko National Park  23366.099609\n",
       "3      3 2015-01-04           Ise Shima National Park  35663.039062\n",
       "4      4 2015-01-05           Oyama Oki National Park   -759.467224"
      ]
     },
     "execution_count": 196,
     "metadata": {},
     "output_type": "execute_result"
    }
   ],
   "source": [
    "test_pred.head()"
   ]
  },
  {
   "cell_type": "code",
   "execution_count": 205,
   "metadata": {},
   "outputs": [],
   "source": [
    "test_pred = test\n",
    "test_pred[\"visitors\"] = y_pred\n",
    "for i in range(0, len(test_pred)):\n",
    "    if test_pred.iloc[i][\"visitors\"]<0:\n",
    "        test_pred.loc[i, \"visitors\"] = mean_visitors[test_pred.iloc[i][\"epark\"]]"
   ]
  },
  {
   "cell_type": "code",
   "execution_count": 206,
   "metadata": {},
   "outputs": [],
   "source": [
    "\n",
    "submit = pd.DataFrame()\n",
    "\n",
    "submit[\"prediction\"] = test_pred[\"visitors\"]\n",
    "submit[\"prediction\"] = submit[\"prediction\"].astype(int)\n"
   ]
  },
  {
   "cell_type": "code",
   "execution_count": 207,
   "metadata": {},
   "outputs": [],
   "source": [
    "\n",
    "submit.to_csv('/Users/abhishekkumar/Documents/MS_UB/Fall_18/ESL506_StatisticalDataMiningI/Project/SIGNATE/sample_submit.tsv',sep='\\t',header=False)"
   ]
  },
  {
   "cell_type": "code",
   "execution_count": 137,
   "metadata": {},
   "outputs": [
    {
     "data": {
      "text/plain": [
       "{'Aso Kuju National Park',\n",
       " 'Kerama islands national park',\n",
       " 'Oyama Oki National Park'}"
      ]
     },
     "execution_count": 137,
     "metadata": {},
     "output_type": "execute_result"
    }
   ],
   "source": [
    "set(train[train[\"visitors\"]==0][\"epark\"])"
   ]
  },
  {
   "cell_type": "code",
   "execution_count": 136,
   "metadata": {},
   "outputs": [
    {
     "data": {
      "text/plain": [
       "{'Aso Kuju National Park',\n",
       " 'Kerama islands national park',\n",
       " 'Oyama Oki National Park'}"
      ]
     },
     "execution_count": 136,
     "metadata": {},
     "output_type": "execute_result"
    }
   ],
   "source": [
    "check = pd.DataFrame()\n",
    "check = test\n",
    "check[\"visitors\"] = y_pred\n",
    "set(check[check[\"visitors\"]<0][\"epark\"])"
   ]
  },
  {
   "cell_type": "code",
   "execution_count": 62,
   "metadata": {},
   "outputs": [
    {
     "data": {
      "text/plain": [
       "RangeIndex(start=1, stop=2921, step=1)"
      ]
     },
     "execution_count": 62,
     "metadata": {},
     "output_type": "execute_result"
    }
   ],
   "source": [
    "submit.index"
   ]
  },
  {
   "cell_type": "code",
   "execution_count": 66,
   "metadata": {},
   "outputs": [],
   "source": []
  },
  {
   "cell_type": "code",
   "execution_count": null,
   "metadata": {},
   "outputs": [],
   "source": []
  }
 ],
 "metadata": {
  "kernelspec": {
   "display_name": "Python [conda env:signate]",
   "language": "python",
   "name": "conda-env-signate-py"
  },
  "language_info": {
   "codemirror_mode": {
    "name": "ipython",
    "version": 3
   },
   "file_extension": ".py",
   "mimetype": "text/x-python",
   "name": "python",
   "nbconvert_exporter": "python",
   "pygments_lexer": "ipython3",
   "version": "3.6.6"
  }
 },
 "nbformat": 4,
 "nbformat_minor": 2
}
