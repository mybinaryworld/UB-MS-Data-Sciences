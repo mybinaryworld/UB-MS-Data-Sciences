{
 "cells": [
  {
   "cell_type": "code",
   "execution_count": 1,
   "metadata": {},
   "outputs": [],
   "source": [
    "import warnings\n",
    "import itertools\n",
    "import pandas as pd\n",
    "import numpy as np\n",
    "import statsmodels.api as sm\n",
    "import matplotlib.pyplot as plt\n",
    "import os\n"
   ]
  },
  {
   "cell_type": "code",
   "execution_count": 10,
   "metadata": {},
   "outputs": [],
   "source": [
    "data_path = \"/Users/abhishekkumar/Documents/MS_UB/Fall_18/ESL506_StatisticalDataMiningI/Project/SIGNATE/test_and_train_data/Nikko/\"\n",
    "\n",
    "train = pd.read_table(os.path.join(data_path,\"nikko_train.csv\")).drop(['Unnamed: 0', 'epark'], axis =1)\n",
    "test = pd.read_table(os.path.join(data_path,\"nikko_test_weather.csv\")).drop(['serial_number', 'epark'], axis =1)"
   ]
  },
  {
   "cell_type": "code",
   "execution_count": 23,
   "metadata": {},
   "outputs": [],
   "source": [
    "def run_model(model,dtrain,predictor_var,target,scoring_method='mean_squared_error'):\n",
    "#For cross-validation\n",
    "    cv_method = KFold(len(dtrain),5)\n",
    "    cv_scores = cross_val_score(model,dtrain[predictor_var],dtrain[target],cv=cv_method,scoring=scoring_method)\n",
    "    print (cv_scores, np.mean(cv_scores), np.sqrt((-1)*np.mean(cv_scores)))\n",
    "    \n",
    "    dtrain_for_val = dtrain[dtrain['Year']<2000]\n",
    "    dtest_for_val = dtrain[dtrain['Year']>1999]\n",
    "    cv_method = KFold(len(dtrain_for_val),5)\n",
    "    cv_scores_2 = cross_val_score(model,dtrain_for_val[predictor_var],dtrain_for_val[target],cv=cv_method,scoring=scoring_method)\n",
    "    print (cv_scores_2, np.mean(cv_scores_2))\n",
    "    \n",
    "    dtrain_for_val_ini = dtrain_for_val[predictor_var]\n",
    "    dtest_for_val_ini = dtest_for_val[predictor_var]\n",
    "    model.fit(dtrain_for_val_ini,dtrain_for_val[target])\n",
    "    pred_for_val = model.predict(dtest_for_val_ini)\n",
    "        \n",
    "    print (math.sqrt(mean_squared_error(dtest_for_val['Footfall'],pred_for_val)))\n",
    "\n",
    "    \n",
    "def generate_csv(model,dtrain,dtest,predictor_var,target,filename): #Generation of Solution file\n",
    "    dtrain_ini = dtrain[predictor_var]\n",
    "    model.fit(dtrain_ini,dtrain[target])\n",
    "    dtest_ini = dtest[predictor_var]\n",
    "    pred = model.predict(dtest_ini)\n",
    "    test_for_sub = pd.read_csv('test.csv')\n",
    "    test_for_sub[target] = 0\n",
    "    i = 0\n",
    "    for index,row in test_for_sub.iterrows():\n",
    "        test_for_sub.set_value(index,target,pred[i])\n",
    "        i+=1\n",
    "    test_for_sub.to_csv(filename,columns=('ID',target),index=False)\n",
    "    \n",
    "def writetotest(model,dtrain,dtest,predictor_var,target,filename): #Generation of Solution file\n",
    "    test_for_sub = pd.read_csv('test.csv')\n",
    "    test_for_sub[target] = 0\n",
    "    i = 0\n",
    "    for index,row in test_for_sub.iterrows():\n",
    "        test_for_sub.set_value(index,target,pred[i])\n",
    "        i+=1\n",
    "    test_for_sub.to_csv(filename,columns=('ID',target),index=False)"
   ]
  },
  {
   "cell_type": "code",
   "execution_count": null,
   "metadata": {},
   "outputs": [],
   "source": [
    "train['datetime'] = pd.to_datetime(train['datetime'])\n",
    "\n",
    "#Creating new features with datetime\n",
    "train_df[\"dayofweek\"] = train['datetime'].dt.dayofweek\n",
    "train_df[\"dayofweek\"] = train_df[\"dayofweek\"].astype('object')\n",
    "train_df[\"month\"] = train['datetime'].dt.month\n",
    "train_df[\"month\"] = train_df[\"month\"].astype('object')\n",
    "train_df[\"year\"] = train['datetime'].dt.year\n",
    "train_df[\"year\"] = train_df[\"year\"].astype('object')\n",
    "train_df[\"day\"] = train['datetime'].dt.day\n",
    "train_df[\"day\"] = train_df[\"day\"].astype('object')"
   ]
  },
  {
   "cell_type": "code",
   "execution_count": 12,
   "metadata": {},
   "outputs": [
    {
     "data": {
      "text/plain": [
       "Index(['index', 'datetime', 'Average temperature (℃)',\n",
       "       'Total precipitation (mm)', 'Total snowfall (cm)',\n",
       "       'Average wind speed (m/s)', 'Average vapor pressure (hPa)',\n",
       "       'Average local atmospheric pressure (hPa)', 'Average humidity (%)'],\n",
       "      dtype='object')"
      ]
     },
     "execution_count": 12,
     "metadata": {},
     "output_type": "execute_result"
    }
   ],
   "source": [
    "test.columns"
   ]
  },
  {
   "cell_type": "code",
   "execution_count": 19,
   "metadata": {},
   "outputs": [],
   "source": [
    "akhil_train = pd.read_csv('/Users/abhishekkumar/Documents/MS_UB/Fall_18/ESL506_StatisticalDataMiningI/Project/AkhilPark/train.csv.txt')\n",
    "akhil_test = pd.read_csv('/Users/abhishekkumar/Documents/MS_UB/Fall_18/ESL506_StatisticalDataMiningI/Project/AkhilPark/test.csv.txt')\n",
    "\n"
   ]
  },
  {
   "cell_type": "code",
   "execution_count": 22,
   "metadata": {},
   "outputs": [
    {
     "name": "stderr",
     "output_type": "stream",
     "text": [
      "/Users/abhishekkumar/anaconda3/envs/signate/lib/python3.6/site-packages/matplotlib/cbook/__init__.py:424: MatplotlibDeprecationWarning: \n",
      "Passing one of 'on', 'true', 'off', 'false' as a boolean is deprecated; use an actual boolean (True/False) instead.\n",
      "  warn_deprecated(\"2.2\", \"Passing one of 'on', 'true', 'off', 'false' as a \"\n"
     ]
    },
    {
     "data": {
      "text/plain": [
       "<matplotlib.axes._subplots.AxesSubplot at 0x1c169c2d30>"
      ]
     },
     "execution_count": 22,
     "metadata": {},
     "output_type": "execute_result"
    },
    {
     "data": {
      "image/png": "[encoded data removed]",
      "text/plain": [
       "<Figure size 432x288 with 1 Axes>"
      ]
     },
     "metadata": {
      "needs_background": "light"
     },
     "output_type": "display_data"
    }
   ],
   "source": [
    "akhil_train[\"Average_Moisture_In_Park\"].plot.box(grid='True')"
   ]
  },
  {
   "cell_type": "code",
   "execution_count": 21,
   "metadata": {},
   "outputs": [
    {
     "data": {
      "text/html": [
       "<div>\n",
       "<style scoped>\n",
       "    .dataframe tbody tr th:only-of-type {\n",
       "        vertical-align: middle;\n",
       "    }\n",
       "\n",
       "    .dataframe tbody tr th {\n",
       "        vertical-align: top;\n",
       "    }\n",
       "\n",
       "    .dataframe thead th {\n",
       "        text-align: right;\n",
       "    }\n",
       "</style>\n",
       "<table border=\"1\" class=\"dataframe\">\n",
       "  <thead>\n",
       "    <tr style=\"text-align: right;\">\n",
       "      <th></th>\n",
       "      <th>ID</th>\n",
       "      <th>Park_ID</th>\n",
       "      <th>Date</th>\n",
       "      <th>Direction_Of_Wind</th>\n",
       "      <th>Average_Breeze_Speed</th>\n",
       "      <th>Max_Breeze_Speed</th>\n",
       "      <th>Min_Breeze_Speed</th>\n",
       "      <th>Var1</th>\n",
       "      <th>Average_Atmospheric_Pressure</th>\n",
       "      <th>Max_Atmospheric_Pressure</th>\n",
       "      <th>Min_Atmospheric_Pressure</th>\n",
       "      <th>Min_Ambient_Pollution</th>\n",
       "      <th>Max_Ambient_Pollution</th>\n",
       "      <th>Average_Moisture_In_Park</th>\n",
       "      <th>Max_Moisture_In_Park</th>\n",
       "      <th>Min_Moisture_In_Park</th>\n",
       "      <th>Location_Type</th>\n",
       "    </tr>\n",
       "  </thead>\n",
       "  <tbody>\n",
       "    <tr>\n",
       "      <th>0</th>\n",
       "      <td>3725712</td>\n",
       "      <td>12</td>\n",
       "      <td>01-01-2002</td>\n",
       "      <td>233.0</td>\n",
       "      <td>55.48</td>\n",
       "      <td>76.0</td>\n",
       "      <td>38.0</td>\n",
       "      <td>0.0249</td>\n",
       "      <td>8259.0</td>\n",
       "      <td>8300.0</td>\n",
       "      <td>8211.0</td>\n",
       "      <td>260.0</td>\n",
       "      <td>316.0</td>\n",
       "      <td>243.0</td>\n",
       "      <td>285.0</td>\n",
       "      <td>210.0</td>\n",
       "      <td>3</td>\n",
       "    </tr>\n",
       "    <tr>\n",
       "      <th>1</th>\n",
       "      <td>3725812</td>\n",
       "      <td>12</td>\n",
       "      <td>02-01-2002</td>\n",
       "      <td>211.0</td>\n",
       "      <td>108.68</td>\n",
       "      <td>152.0</td>\n",
       "      <td>60.8</td>\n",
       "      <td>154.3800</td>\n",
       "      <td>8208.0</td>\n",
       "      <td>8294.0</td>\n",
       "      <td>8136.0</td>\n",
       "      <td>120.0</td>\n",
       "      <td>280.0</td>\n",
       "      <td>252.0</td>\n",
       "      <td>291.0</td>\n",
       "      <td>201.0</td>\n",
       "      <td>3</td>\n",
       "    </tr>\n",
       "    <tr>\n",
       "      <th>2</th>\n",
       "      <td>3725912</td>\n",
       "      <td>12</td>\n",
       "      <td>03-01-2002</td>\n",
       "      <td>237.0</td>\n",
       "      <td>95.76</td>\n",
       "      <td>121.6</td>\n",
       "      <td>83.6</td>\n",
       "      <td>34.8600</td>\n",
       "      <td>8252.0</td>\n",
       "      <td>8304.0</td>\n",
       "      <td>8146.0</td>\n",
       "      <td>236.0</td>\n",
       "      <td>292.0</td>\n",
       "      <td>234.0</td>\n",
       "      <td>270.0</td>\n",
       "      <td>207.0</td>\n",
       "      <td>3</td>\n",
       "    </tr>\n",
       "    <tr>\n",
       "      <th>3</th>\n",
       "      <td>3726012</td>\n",
       "      <td>12</td>\n",
       "      <td>04-01-2002</td>\n",
       "      <td>286.0</td>\n",
       "      <td>101.08</td>\n",
       "      <td>129.2</td>\n",
       "      <td>83.6</td>\n",
       "      <td>34.0300</td>\n",
       "      <td>8146.0</td>\n",
       "      <td>8249.0</td>\n",
       "      <td>8092.0</td>\n",
       "      <td>204.0</td>\n",
       "      <td>284.0</td>\n",
       "      <td>228.0</td>\n",
       "      <td>264.0</td>\n",
       "      <td>201.0</td>\n",
       "      <td>3</td>\n",
       "    </tr>\n",
       "    <tr>\n",
       "      <th>4</th>\n",
       "      <td>3726112</td>\n",
       "      <td>12</td>\n",
       "      <td>05-01-2002</td>\n",
       "      <td>281.0</td>\n",
       "      <td>63.08</td>\n",
       "      <td>83.6</td>\n",
       "      <td>45.6</td>\n",
       "      <td>4.9800</td>\n",
       "      <td>8341.0</td>\n",
       "      <td>8376.0</td>\n",
       "      <td>8259.0</td>\n",
       "      <td>144.0</td>\n",
       "      <td>316.0</td>\n",
       "      <td>237.0</td>\n",
       "      <td>279.0</td>\n",
       "      <td>213.0</td>\n",
       "      <td>3</td>\n",
       "    </tr>\n",
       "  </tbody>\n",
       "</table>\n",
       "</div>"
      ],
      "text/plain": [
       "        ID  Park_ID        Date  Direction_Of_Wind  Average_Breeze_Speed  \\\n",
       "0  3725712       12  01-01-2002              233.0                 55.48   \n",
       "1  3725812       12  02-01-2002              211.0                108.68   \n",
       "2  3725912       12  03-01-2002              237.0                 95.76   \n",
       "3  3726012       12  04-01-2002              286.0                101.08   \n",
       "4  3726112       12  05-01-2002              281.0                 63.08   \n",
       "\n",
       "   Max_Breeze_Speed  Min_Breeze_Speed      Var1  Average_Atmospheric_Pressure  \\\n",
       "0              76.0              38.0    0.0249                        8259.0   \n",
       "1             152.0              60.8  154.3800                        8208.0   \n",
       "2             121.6              83.6   34.8600                        8252.0   \n",
       "3             129.2              83.6   34.0300                        8146.0   \n",
       "4              83.6              45.6    4.9800                        8341.0   \n",
       "\n",
       "   Max_Atmospheric_Pressure  Min_Atmospheric_Pressure  Min_Ambient_Pollution  \\\n",
       "0                    8300.0                    8211.0                  260.0   \n",
       "1                    8294.0                    8136.0                  120.0   \n",
       "2                    8304.0                    8146.0                  236.0   \n",
       "3                    8249.0                    8092.0                  204.0   \n",
       "4                    8376.0                    8259.0                  144.0   \n",
       "\n",
       "   Max_Ambient_Pollution  Average_Moisture_In_Park  Max_Moisture_In_Park  \\\n",
       "0                  316.0                     243.0                 285.0   \n",
       "1                  280.0                     252.0                 291.0   \n",
       "2                  292.0                     234.0                 270.0   \n",
       "3                  284.0                     228.0                 264.0   \n",
       "4                  316.0                     237.0                 279.0   \n",
       "\n",
       "   Min_Moisture_In_Park  Location_Type  \n",
       "0                 210.0              3  \n",
       "1                 201.0              3  \n",
       "2                 207.0              3  \n",
       "3                 201.0              3  \n",
       "4                 213.0              3  "
      ]
     },
     "execution_count": 21,
     "metadata": {},
     "output_type": "execute_result"
    }
   ],
   "source": [
    "akhil_test.head()"
   ]
  },
  {
   "cell_type": "code",
   "execution_count": null,
   "metadata": {},
   "outputs": [],
   "source": []
  }
 ],
 "metadata": {
  "kernelspec": {
   "display_name": "Python [conda env:signate]",
   "language": "python",
   "name": "conda-env-signate-py"
  },
  "language_info": {
   "codemirror_mode": {
    "name": "ipython",
    "version": 3
   },
   "file_extension": ".py",
   "mimetype": "text/x-python",
   "name": "python",
   "nbconvert_exporter": "python",
   "pygments_lexer": "ipython3",
   "version": "3.6.6"
  }
 },
 "nbformat": 4,
 "nbformat_minor": 2
}
